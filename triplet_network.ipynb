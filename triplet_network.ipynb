{
 "cells": [
  {
   "cell_type": "markdown",
   "metadata": {},
   "source": [
    "# Implémentation de Deep Learning Using Triplet Network\n",
    "\n",
    "## Première partie : Récupération des sets que nous allons utiliser\n",
    "\n",
    "### Cifar10\n",
    "\n",
    "https://www.cs.toronto.edu/~kriz/cifar.html\n",
    "\n",
    "### MNIST\n",
    "\n",
    "http://yann.lecun.com/exdb/mnist/\n",
    "\n",
    "### SVHN\n",
    "\n",
    "http://ufldl.stanford.edu/housenumbers/\n",
    "\n",
    "### STL10\n",
    "\n",
    "http://cs.stanford.edu/~acoates/stl10/\n",
    "\n",
    "\n",
    "On va commencer par uniquement Cifar10 dans un premier temps afin de simplifier la tâche.\n",
    "\n",
    "Le Cifar10 est découpé en 5 parties train + la partie test."
   ]
  },
  {
   "cell_type": "code",
   "execution_count": 1,
   "metadata": {
    "collapsed": false
   },
   "outputs": [],
   "source": [
    "import tensorflow as tf\n",
    "import random\n",
    "import numpy\n",
    "from numpy import linalg as LA\n",
    "\n",
    "CIFAR10_PATH = r'C:\\Users\\leobo_000\\Desktop\\Developpement\\TF_stage\\cifar-10-python\\cifar-10-batches-py'\n",
    "\n",
    "batch_size_train = 20\n",
    "\n",
    "batch_number = 200\n",
    "\n",
    "def unpickle(file):\n",
    "    import pickle\n",
    "    with open(file, 'rb') as fo:\n",
    "        dict = pickle.load(fo, encoding='bytes')\n",
    "    return dict\n"
   ]
  },
  {
   "cell_type": "markdown",
   "metadata": {},
   "source": [
    "## Etape 2 : Récupération sous Python\n",
    "\n",
    "Le Cifar10 est découpé en 5 parties train + la partie test que nous allons récupéré."
   ]
  },
  {
   "cell_type": "code",
   "execution_count": 2,
   "metadata": {
    "collapsed": false
   },
   "outputs": [],
   "source": [
    "dic1 = unpickle(CIFAR10_PATH + '\\\\data_batch_1')\n",
    "dic2 = unpickle(CIFAR10_PATH + '\\\\data_batch_2')\n",
    "dic3 = unpickle(CIFAR10_PATH + '\\\\data_batch_3')\n",
    "dic4 = unpickle(CIFAR10_PATH + '\\\\data_batch_4')\n",
    "dic5 = unpickle(CIFAR10_PATH + '\\\\data_batch_5')\n",
    "list_dic_train = [dic1, dic2, dic3, dic4, dic5]\n",
    "dictest = unpickle(CIFAR10_PATH + '\\\\test_batch')"
   ]
  },
  {
   "cell_type": "markdown",
   "metadata": {},
   "source": [
    "## Etape 3 : Création d'un set global, et d'un set par classe\n",
    "\n",
    "Création d'un dictionnaire ayant pour clé la classe et comme valeur la liste des images"
   ]
  },
  {
   "cell_type": "code",
   "execution_count": 3,
   "metadata": {
    "collapsed": false
   },
   "outputs": [],
   "source": [
    "gen_dic_train = ((i,[]) for i in range(0,10,1))\n",
    "dic_train = dict(gen_dic_train)\n",
    "\n",
    "i = 0\n",
    "\n",
    "while i < len(dic1[b'labels']):\n",
    "    for d in list_dic_train:\n",
    "        key = d[b'labels'][i]\n",
    "        data = d[b'data'][i]\n",
    "        if key in dic_train:\n",
    "            dic_train[key].append(data)\n",
    "        else:\n",
    "            dic_train[key] = [data]\n",
    "    i=i+1"
   ]
  },
  {
   "cell_type": "markdown",
   "metadata": {
    "collapsed": true
   },
   "source": [
    "## Etape 4 : Création de la fonction permettant de créer les triplets pour le train\n",
    "\n",
    "640 000 triplets par epoch, générer aléatoirement à chaque epoch"
   ]
  },
  {
   "cell_type": "code",
   "execution_count": 4,
   "metadata": {
    "collapsed": false
   },
   "outputs": [],
   "source": [
    "random.seed()\n",
    "\n",
    "def creation_triplet(dic, nombre):\n",
    "    triplet = [[],[],[]]\n",
    "    i = 0\n",
    "    while i<nombre:\n",
    "        \n",
    "        i+=1\n",
    "        \n",
    "        x_c = random.randrange(0, 10, 1)\n",
    "        xm_c = random.randrange(0, 9, 1)\n",
    "        x_n = random.randrange(0, 5000, 1)\n",
    "        xp_n = random.randrange(0, 4999, 1)\n",
    "        xm_n = random.randrange(0, 5000, 1)\n",
    "        \n",
    "        if(xm_c >= x_c):\n",
    "            xm_c += 1;\n",
    "        if(xp_n >= x_n):\n",
    "            xp_n += 1;\n",
    "        \n",
    "        x = dic[x_c][x_n]\n",
    "        xp = dic[x_c][xp_n]\n",
    "        xm = dic[xm_c][xm_n]\n",
    "        \n",
    "        triplet[0].append(x)\n",
    "        triplet[1].append(xp)\n",
    "        triplet[2].append(xm)\n",
    "        \n",
    "    return triplet"
   ]
  },
  {
   "cell_type": "markdown",
   "metadata": {
    "collapsed": true
   },
   "source": [
    "## Etape 5 : Création des différents niveaux du réseau"
   ]
  },
  {
   "cell_type": "code",
   "execution_count": 5,
   "metadata": {
    "collapsed": true
   },
   "outputs": [],
   "source": [
    "#On ne commence pas à 0 afin d'éviter les neurones mort\n",
    "def weight_variable(shape):\n",
    "    initial = tf.truncated_normal(shape, stddev=0.1)\n",
    "    return tf.Variable(initial)\n",
    "\n",
    "\n",
    "def conv2d(x, W):\n",
    "    return tf.nn.conv2d(x, W, strides=[1, 1, 1, 1], padding='SAME')\n",
    "\n",
    "def max_pool_2x2(x):\n",
    "    return tf.nn.max_pool(x, ksize=[1, 2, 2, 1],\n",
    "                        strides=[1, 2, 2, 1], padding='SAME')"
   ]
  },
  {
   "cell_type": "code",
   "execution_count": 6,
   "metadata": {
    "collapsed": false
   },
   "outputs": [],
   "source": [
    "#Vecteur représentant la taille des images traitées\n",
    "x = tf.placeholder(tf.float32, shape=[None, 3072])\n",
    "xp = tf.placeholder(tf.float32, shape=[None, 3072])\n",
    "xm = tf.placeholder(tf.float32, shape=[None, 3072])\n",
    "\n",
    "#Représentant la valeur du dropout\n",
    "keep_prob = tf.placeholder(tf.float32)\n",
    "\n",
    "V_conv1 = weight_variable([5, 5, 3, 64])\n",
    "V_conv2 = weight_variable([3, 3, 64, 128])\n",
    "V_conv3 = weight_variable([3, 3, 128, 256])\n",
    "V_conv4 = weight_variable([2, 2, 256, 128])\n",
    "\n",
    "#Taille de l'image\n",
    "x_image = tf.reshape(x, [-1, 32, 32, 3])\n",
    "xp_image = tf.reshape(xp, [-1, 32, 32, 3])\n",
    "xm_image = tf.reshape(xm, [-1, 32, 32, 3])"
   ]
  },
  {
   "cell_type": "code",
   "execution_count": 7,
   "metadata": {
    "collapsed": false
   },
   "outputs": [],
   "source": [
    "def network(x_image):\n",
    "    #Les 3 premiers CNN\n",
    "\n",
    "    conv1 = tf.nn.relu(conv2d(x_image, V_conv1))\n",
    "    conv2 = tf.nn.relu(conv2d(conv1, V_conv2))\n",
    "    conv3 = tf.nn.relu(conv2d(conv2, V_conv3))\n",
    "\n",
    "    #Le Max Pooling 2x2\n",
    "\n",
    "    pool = tf.nn.relu(max_pool_2x2(conv3))\n",
    "\n",
    "    #Le dernier CNN\n",
    "\n",
    "    conv4 = conv2d(pool, V_conv4)\n",
    "    \n",
    "    #On rajoute le dropout pour éviter l'overfit (pas sûr de sa position en revanche)\n",
    "    #conv4_drop = tf.nn.dropout(conv4, keep_prob)\n",
    "    \n",
    "    return conv4"
   ]
  },
  {
   "cell_type": "code",
   "execution_count": 8,
   "metadata": {
    "collapsed": false
   },
   "outputs": [],
   "source": [
    "def euclidean_distance(vect1, vect2):\n",
    "    return tf.sqrt(tf.reduce_sum(tf.square((tf.subtract(vect1, vect2)))))"
   ]
  },
  {
   "cell_type": "code",
   "execution_count": 9,
   "metadata": {
    "collapsed": false
   },
   "outputs": [],
   "source": [
    "net_x = network(x_image)\n",
    "net_xm = network(xm_image)\n",
    "net_xp = network(xp_image)\n",
    "\n",
    "soft_max_results = []\n",
    "intermediary = []\n",
    "\n",
    "for i in range(batch_size_train):\n",
    "    dist_moins = euclidean_distance(tf.reshape(net_x[i],[-1]), tf.reshape(net_xm[i],[-1]))\n",
    "    dist_plus = euclidean_distance(tf.reshape(net_x[i],[-1]), tf.reshape(net_xp[i],[-1]))\n",
    "    intermediary.append([dist_moins, dist_plus])\n",
    "    soft_max_results.append(tf.nn.softmax((dist_moins, dist_plus)))"
   ]
  },
  {
   "cell_type": "markdown",
   "metadata": {},
   "source": [
    "## Création de la loss function\n",
    "\n",
    "Erreur quadratique moyenne sur le soft-max du résultat"
   ]
  },
  {
   "cell_type": "code",
   "execution_count": 10,
   "metadata": {
    "collapsed": false
   },
   "outputs": [],
   "source": [
    "loss_function = tf.losses.mean_squared_error([(0,1)]*batch_size_train, soft_max_results)"
   ]
  },
  {
   "cell_type": "markdown",
   "metadata": {},
   "source": [
    "## Création de la fonction de train avec l'optimisation"
   ]
  },
  {
   "cell_type": "code",
   "execution_count": 11,
   "metadata": {
    "collapsed": false
   },
   "outputs": [],
   "source": [
    "learning_rate_start = 0.5\n",
    "global_step = tf.Variable(0, trainable=False)\n",
    "starter_learning_rate = 0.1\n",
    "learning_rate = tf.train.exponential_decay(learning_rate_start, global_step,\n",
    "                                           20, 0.8, staircase=True)\n",
    "\n",
    "train_step = tf.train.MomentumOptimizer(learning_rate, 0.9).minimize(loss_function)\n",
    "\n",
    "correct_prediction = []\n",
    "\n",
    "for i in range(batch_size_train):    \n",
    "    correct_prediction.append(tf.equal(tf.argmax(soft_max_results[i]), tf.argmax(tf.constant([0,1]))))\n",
    "accuracy = tf.reduce_mean(tf.cast(correct_prediction, tf.float32))"
   ]
  },
  {
   "cell_type": "markdown",
   "metadata": {},
   "source": [
    "## Réalisation du train"
   ]
  },
  {
   "cell_type": "code",
   "execution_count": 12,
   "metadata": {
    "collapsed": false
   },
   "outputs": [
    {
     "name": "stdout",
     "output_type": "stream",
     "text": [
      "step 0, training accuracy 0.5\n",
      "step 1, training accuracy 0.4\n",
      "step 2, training accuracy 0.5\n",
      "step 3, training accuracy 0.3\n",
      "step 4, training accuracy 0.45\n",
      "step 5, training accuracy 0.55\n",
      "step 6, training accuracy 0.35\n",
      "step 7, training accuracy 0.35\n",
      "step 8, training accuracy 0.45\n",
      "step 9, training accuracy 0.3\n",
      "step 10, training accuracy 0.25\n",
      "step 11, training accuracy 0.25\n",
      "step 12, training accuracy 0.45\n",
      "step 13, training accuracy 0.25\n",
      "step 14, training accuracy 0.35\n",
      "step 15, training accuracy 0.55\n",
      "step 16, training accuracy 0.5\n",
      "step 17, training accuracy 0.5\n",
      "step 18, training accuracy 0.6\n",
      "step 19, training accuracy 0.4\n",
      "step 20, training accuracy 0.55\n",
      "step 21, training accuracy 0.4\n",
      "step 22, training accuracy 0.6\n",
      "step 23, training accuracy 0.5\n",
      "step 24, training accuracy 0.15\n",
      "step 25, training accuracy 0.55\n",
      "step 26, training accuracy 0.4\n",
      "step 27, training accuracy 0.4\n",
      "step 28, training accuracy 0.4\n",
      "step 29, training accuracy 0.3\n",
      "step 30, training accuracy 0.4\n",
      "step 31, training accuracy 0.35\n",
      "step 32, training accuracy 0.35\n",
      "step 33, training accuracy 0.55\n",
      "step 34, training accuracy 0.2\n",
      "step 35, training accuracy 0.5\n",
      "step 36, training accuracy 0.55\n",
      "step 37, training accuracy 0.4\n",
      "step 38, training accuracy 0.45\n",
      "step 39, training accuracy 0.45\n",
      "step 40, training accuracy 0.3\n",
      "step 41, training accuracy 0.45\n",
      "step 42, training accuracy 0.35\n",
      "step 43, training accuracy 0.5\n",
      "step 44, training accuracy 0.5\n",
      "step 45, training accuracy 0.5\n",
      "step 46, training accuracy 0.35\n",
      "step 47, training accuracy 0.35\n",
      "step 48, training accuracy 0.45\n",
      "step 49, training accuracy 0.55\n",
      "step 50, training accuracy 0.35\n",
      "step 51, training accuracy 0.45\n",
      "step 52, training accuracy 0.55\n",
      "step 53, training accuracy 0.45\n",
      "step 54, training accuracy 0.45\n",
      "step 55, training accuracy 0.45\n",
      "step 56, training accuracy 0.55\n",
      "step 57, training accuracy 0.15\n",
      "step 58, training accuracy 0.35\n",
      "step 59, training accuracy 0.35\n",
      "step 60, training accuracy 0.4\n",
      "step 61, training accuracy 0.5\n",
      "step 62, training accuracy 0.55\n",
      "step 63, training accuracy 0.45\n",
      "step 64, training accuracy 0.4\n",
      "step 65, training accuracy 0.2\n",
      "step 66, training accuracy 0.3\n",
      "step 67, training accuracy 0.55\n",
      "step 68, training accuracy 0.35\n",
      "step 69, training accuracy 0.5\n",
      "step 70, training accuracy 0.45\n",
      "step 71, training accuracy 0.25\n",
      "step 72, training accuracy 0.35\n",
      "step 73, training accuracy 0.35\n",
      "step 74, training accuracy 0.55\n",
      "step 75, training accuracy 0.25\n",
      "step 76, training accuracy 0.45\n",
      "step 77, training accuracy 0.7\n",
      "step 78, training accuracy 0.45\n",
      "step 79, training accuracy 0.6\n",
      "step 80, training accuracy 0.45\n",
      "step 81, training accuracy 0.4\n",
      "step 82, training accuracy 0.55\n",
      "step 83, training accuracy 0.25\n",
      "step 84, training accuracy 0.45\n",
      "step 85, training accuracy 0.5\n",
      "step 86, training accuracy 0.55\n",
      "step 87, training accuracy 0.3\n",
      "step 88, training accuracy 0.45\n",
      "step 89, training accuracy 0.5\n",
      "step 90, training accuracy 0.4\n",
      "step 91, training accuracy 0.25\n",
      "step 92, training accuracy 0.45\n",
      "step 93, training accuracy 0.55\n",
      "step 94, training accuracy 0.4\n",
      "step 95, training accuracy 0.55\n",
      "step 96, training accuracy 0.55\n",
      "step 97, training accuracy 0.3\n",
      "step 98, training accuracy 0.5\n",
      "step 99, training accuracy 0.5\n",
      "step 100, training accuracy 0.55\n",
      "step 101, training accuracy 0.5\n",
      "step 102, training accuracy 0.25\n",
      "step 103, training accuracy 0.35\n",
      "step 104, training accuracy 0.4\n",
      "step 105, training accuracy 0.45\n",
      "step 106, training accuracy 0.55\n",
      "step 107, training accuracy 0.5\n",
      "step 108, training accuracy 0.35\n",
      "step 109, training accuracy 0.4\n",
      "step 110, training accuracy 0.65\n",
      "step 111, training accuracy 0.35\n",
      "step 112, training accuracy 0.5\n",
      "step 113, training accuracy 0.35\n",
      "step 114, training accuracy 0.5\n",
      "step 115, training accuracy 0.55\n",
      "step 116, training accuracy 0.6\n",
      "step 117, training accuracy 0.3\n",
      "step 118, training accuracy 0.25\n",
      "step 119, training accuracy 0.35\n",
      "step 120, training accuracy 0.5\n",
      "step 121, training accuracy 0.5\n",
      "step 122, training accuracy 0.5\n",
      "step 123, training accuracy 0.7\n",
      "step 124, training accuracy 0.3\n",
      "step 125, training accuracy 0.55\n",
      "step 126, training accuracy 0.4\n",
      "step 127, training accuracy 0.6\n",
      "step 128, training accuracy 0.55\n",
      "step 129, training accuracy 0.4\n",
      "step 130, training accuracy 0.5\n",
      "step 131, training accuracy 0.4\n",
      "step 132, training accuracy 0.6\n",
      "step 133, training accuracy 0.45\n",
      "step 134, training accuracy 0.55\n",
      "step 135, training accuracy 0.35\n",
      "step 136, training accuracy 0.65\n",
      "step 137, training accuracy 0.5\n",
      "step 138, training accuracy 0.45\n",
      "step 139, training accuracy 0.6\n",
      "step 140, training accuracy 0.4\n",
      "step 141, training accuracy 0.35\n",
      "step 142, training accuracy 0.45\n",
      "step 143, training accuracy 0.45\n",
      "step 144, training accuracy 0.4\n",
      "step 145, training accuracy 0.6\n",
      "step 146, training accuracy 0.4\n",
      "step 147, training accuracy 0.5\n",
      "step 148, training accuracy 0.5\n",
      "step 149, training accuracy 0.3\n",
      "step 150, training accuracy 0.35\n",
      "step 151, training accuracy 0.6\n",
      "step 152, training accuracy 0.65\n",
      "step 153, training accuracy 0.4\n",
      "step 154, training accuracy 0.45\n",
      "step 155, training accuracy 0.5\n",
      "step 156, training accuracy 0.5\n",
      "step 157, training accuracy 0.5\n",
      "step 158, training accuracy 0.4\n",
      "step 159, training accuracy 0.25\n",
      "step 160, training accuracy 0.35\n",
      "step 161, training accuracy 0.5\n",
      "step 162, training accuracy 0.45\n",
      "step 163, training accuracy 0.6\n",
      "step 164, training accuracy 0.7\n",
      "step 165, training accuracy 0.6\n",
      "step 166, training accuracy 0.4\n",
      "step 167, training accuracy 0.25\n",
      "step 168, training accuracy 0.35\n",
      "step 169, training accuracy 0.4\n",
      "step 170, training accuracy 0.2\n",
      "step 171, training accuracy 0.65\n",
      "step 172, training accuracy 0.6\n",
      "step 173, training accuracy 0.55\n",
      "step 174, training accuracy 0.35\n",
      "step 175, training accuracy 0.4\n",
      "step 176, training accuracy 0.45\n",
      "step 177, training accuracy 0.45\n",
      "step 178, training accuracy 0.5\n",
      "step 179, training accuracy 0.4\n",
      "step 180, training accuracy 0.45\n",
      "step 181, training accuracy 0.45\n",
      "step 182, training accuracy 0.6\n",
      "step 183, training accuracy 0.5\n",
      "step 184, training accuracy 0.45\n",
      "step 185, training accuracy 0.5\n",
      "step 186, training accuracy 0.45\n",
      "step 187, training accuracy 0.55\n",
      "step 188, training accuracy 0.2\n",
      "step 189, training accuracy 0.5\n",
      "step 190, training accuracy 0.6\n",
      "step 191, training accuracy 0.55\n",
      "step 192, training accuracy 0.65\n",
      "step 193, training accuracy 0.45\n",
      "step 194, training accuracy 0.35\n",
      "step 195, training accuracy 0.55\n",
      "step 196, training accuracy 0.5\n",
      "step 197, training accuracy 0.4\n",
      "step 198, training accuracy 0.5\n",
      "step 199, training accuracy 0.4\n"
     ]
    }
   ],
   "source": [
    "with tf.Session() as sess:\n",
    "    sess.run(tf.global_variables_initializer())\n",
    "    for i in range(batch_number):\n",
    "        batch = creation_triplet(dic_train, batch_size_train)\n",
    "        train_step.run(feed_dict={x: batch[0], xp: batch[1], xm: batch[2], keep_prob: 0.5})\n",
    "        #print(correct_prediction.eval(feed_dict={x: batch[0], xp: batch[1], xm: batch[2], keep_prob: 1}))\n",
    "        #print(len(soft_max_results))\n",
    "        train_accuracy = accuracy.eval(feed_dict={x: batch[0], xp: batch[1], xm: batch[2], keep_prob: 1})\n",
    "        print('step %d, training accuracy %g' % (i, train_accuracy))"
   ]
  },
  {
   "cell_type": "code",
   "execution_count": null,
   "metadata": {
    "collapsed": true
   },
   "outputs": [],
   "source": []
  }
 ],
 "metadata": {
  "anaconda-cloud": {},
  "kernelspec": {
   "display_name": "Python [default]",
   "language": "python",
   "name": "python3"
  },
  "language_info": {
   "codemirror_mode": {
    "name": "ipython",
    "version": 3
   },
   "file_extension": ".py",
   "mimetype": "text/x-python",
   "name": "python",
   "nbconvert_exporter": "python",
   "pygments_lexer": "ipython3",
   "version": "3.5.2"
  }
 },
 "nbformat": 4,
 "nbformat_minor": 2
}
